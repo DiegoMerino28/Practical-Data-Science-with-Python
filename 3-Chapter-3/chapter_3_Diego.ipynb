{
 "cells": [
  {
   "cell_type": "code",
   "execution_count": 3,
   "metadata": {},
   "outputs": [],
   "source": [
    "with open(file = 'jaja.txt', mode = 'a') as f:\n",
    "    f.write('I\\'m exhausted men')"
   ]
  },
  {
   "cell_type": "code",
   "execution_count": 4,
   "metadata": {},
   "outputs": [
    {
     "name": "stdout",
     "output_type": "stream",
     "text": [
      "{\"books\": 12, \"articles\": 100, \"subjects\": [\"math\", \"programming\", \"data science\"]}\n"
     ]
    }
   ],
   "source": [
    "import json\n",
    "data_dictionary = { 'books': 12,\n",
    "'articles': 100, 'subjects': ['math',\n",
    "'programming', 'data science']}\n",
    "json_string = json.dumps(data_dictionary)\n",
    "print(json_string)"
   ]
  },
  {
   "cell_type": "code",
   "execution_count": 6,
   "metadata": {},
   "outputs": [
    {
     "name": "stdout",
     "output_type": "stream",
     "text": [
      "{'books': 12, 'articles': 100, 'subjects': ['math', 'programming', 'data science']}\n"
     ]
    }
   ],
   "source": [
    "data_dict = json.loads(json_string)\n",
    "print(data_dict)"
   ]
  },
  {
   "cell_type": "code",
   "execution_count": 9,
   "metadata": {},
   "outputs": [],
   "source": [
    "with open(file = 'json_test.json', mode = 'w') as f: \n",
    "    json.dump(data_dictionary, f)"
   ]
  },
  {
   "cell_type": "code",
   "execution_count": 8,
   "metadata": {},
   "outputs": [
    {
     "name": "stdout",
     "output_type": "stream",
     "text": [
      "{'books': 12, 'articles': 100, 'subjects': ['math', 'programming', 'data science']}\n"
     ]
    }
   ],
   "source": [
    "with open(file = 'reading.json') as f:\n",
    "    loaded_data = json.load(f)\n",
    "print(loaded_data)"
   ]
  },
  {
   "cell_type": "code",
   "execution_count": 10,
   "metadata": {},
   "outputs": [
    {
     "name": "stdout",
     "output_type": "stream",
     "text": [
      "username: datasci\n",
      "password: iscool\n"
     ]
    }
   ],
   "source": [
    "import credentials as creds\n",
    "print(f'username: {creds.username}\\npassword: {creds.password}')"
   ]
  },
  {
   "cell_type": "code",
   "execution_count": 11,
   "metadata": {},
   "outputs": [],
   "source": [
    "import pickle as pk \n",
    "with open('readings.pk', 'wb') as f:\n",
    "    pk.dump(data_dictionary, f)"
   ]
  },
  {
   "cell_type": "code",
   "execution_count": 13,
   "metadata": {},
   "outputs": [
    {
     "name": "stdout",
     "output_type": "stream",
     "text": [
      "{'books': 12, 'articles': 100, 'subjects': ['math', 'programming', 'data science']}\n"
     ]
    }
   ],
   "source": [
    "with open('readings.pk', 'rb') as f:\n",
    "    data = pk.load(f)\n",
    "print(data)"
   ]
  },
  {
   "cell_type": "code",
   "execution_count": 14,
   "metadata": {},
   "outputs": [],
   "source": [
    "import sqlite3\n",
    "connection = sqlite3.connect('chinook.db')\n",
    "cursor = connection.cursor()"
   ]
  },
  {
   "cell_type": "code",
   "execution_count": 16,
   "metadata": {},
   "outputs": [
    {
     "data": {
      "text/plain": [
       "[(1, 'AC/DC'),\n",
       " (2, 'Accept'),\n",
       " (3, 'Aerosmith'),\n",
       " (4, 'Alanis Morissette'),\n",
       " (5, 'Alice In Chains'),\n",
       " (6, 'Antônio Carlos Jobim'),\n",
       " (7, 'Apocalyptica'),\n",
       " (8, 'Audioslave'),\n",
       " (9, 'BackBeat'),\n",
       " (10, 'Billy Cobham')]"
      ]
     },
     "execution_count": 16,
     "metadata": {},
     "output_type": "execute_result"
    }
   ],
   "source": [
    "cursor.execute('SELECT * FROM artists LIMIT 10;')\n",
    "cursor.fetchall()"
   ]
  },
  {
   "cell_type": "code",
   "execution_count": 17,
   "metadata": {},
   "outputs": [
    {
     "data": {
      "text/plain": [
       "[(25.86, '2013-11-13 00:00:00'),\n",
       " (23.86, '2012-08-05 00:00:00'),\n",
       " (21.86, '2010-02-18 00:00:00'),\n",
       " (21.86, '2011-04-28 00:00:00'),\n",
       " (18.86, '2010-01-18 00:00:00'),\n",
       " (18.86, '2011-05-29 00:00:00'),\n",
       " (17.91, '2010-01-13 00:00:00'),\n",
       " (16.86, '2012-09-05 00:00:00'),\n",
       " (16.86, '2012-10-06 00:00:00'),\n",
       " (15.86, '2010-03-21 00:00:00')]"
      ]
     },
     "execution_count": 17,
     "metadata": {},
     "output_type": "execute_result"
    }
   ],
   "source": [
    "query = \"\"\"\n",
    "SELECT Total, InvoiceDate\n",
    "FROM invoices\n",
    "ORDER BY Total DESC\n",
    "LIMIT 10;\n",
    "\"\"\"\n",
    "cursor.execute(query)\n",
    "cursor.fetchall()"
   ]
  },
  {
   "cell_type": "code",
   "execution_count": 19,
   "metadata": {},
   "outputs": [
    {
     "data": {
      "text/plain": [
       "[(8.91, 'Canada'),\n",
       " (8.91, 'Canada'),\n",
       " (0.99, 'Canada'),\n",
       " (1.98, 'Canada'),\n",
       " (13.86, 'Canada'),\n",
       " (0.99, 'Canada'),\n",
       " (1.98, 'Canada'),\n",
       " (1.98, 'Canada'),\n",
       " (13.86, 'Canada'),\n",
       " (3.96, 'Canada')]"
      ]
     },
     "execution_count": 19,
     "metadata": {},
     "output_type": "execute_result"
    }
   ],
   "source": [
    "query = \"\"\"\n",
    "SELECT Total, BillingCountry\n",
    "FROM invoices\n",
    "WHERE BillingCountry == \"Canada\"\n",
    "LIMIT 10;\n",
    "\"\"\"\n",
    "cursor.execute(query)\n",
    "cursor.fetchall()"
   ]
  },
  {
   "cell_type": "code",
   "execution_count": 21,
   "metadata": {},
   "outputs": [
    {
     "data": {
      "text/plain": [
       "[(13.86, 'Canada'),\n",
       " (13.86, 'Canada'),\n",
       " (13.86, 'Canada'),\n",
       " (13.86, 'Canada'),\n",
       " (13.86, 'Canada'),\n",
       " (13.86, 'Canada'),\n",
       " (13.86, 'Canada'),\n",
       " (13.86, 'Canada'),\n",
       " (9.91, 'Canada'),\n",
       " (8.91, 'Canada')]"
      ]
     },
     "execution_count": 21,
     "metadata": {},
     "output_type": "execute_result"
    }
   ],
   "source": [
    "query = \"\"\"\n",
    "SELECT Total, BillingCountry\n",
    "FROM invoices\n",
    "WHERE BillingCountry LIKE \"%can%\"\n",
    "ORDER BY Total DESC\n",
    "LIMIT 10;\n",
    "\"\"\"\n",
    "cursor.execute(query)\n",
    "cursor.fetchall()"
   ]
  },
  {
   "cell_type": "code",
   "execution_count": 22,
   "metadata": {},
   "outputs": [
    {
     "data": {
      "text/plain": [
       "[(523.0600000000003, 'USA'),\n",
       " (303.9599999999999, 'Canada'),\n",
       " (195.09999999999994, 'France'),\n",
       " (190.09999999999997, 'Brazil'),\n",
       " (156.48, 'Germany'),\n",
       " (112.85999999999999, 'United Kingdom'),\n",
       " (90.24000000000001, 'Czech Republic'),\n",
       " (77.23999999999998, 'Portugal'),\n",
       " (75.25999999999999, 'India'),\n",
       " (46.62, 'Chile')]"
      ]
     },
     "execution_count": 22,
     "metadata": {},
     "output_type": "execute_result"
    }
   ],
   "source": [
    "query = \"\"\"\n",
    "SELECT SUM(Total) AS Total, BillingCountry\n",
    "FROM invoices\n",
    "GROUP BY BillingCountry\n",
    "ORDER BY 1 DESC\n",
    "LIMIT 10;\n",
    "\"\"\"\n",
    "cursor.execute(query)\n",
    "cursor.fetchall()"
   ]
  },
  {
   "cell_type": "code",
   "execution_count": 24,
   "metadata": {},
   "outputs": [
    {
     "data": {
      "text/plain": [
       "[('Germany', 2),\n",
       " ('Germany', 4),\n",
       " ('Norway', 6),\n",
       " ('Norway', 8),\n",
       " ('Norway', 10),\n",
       " ('Norway', 12),\n",
       " ('Belgium', 16),\n",
       " ('Belgium', 20),\n",
       " ('Belgium', 24),\n",
       " ('Belgium', 28)]"
      ]
     },
     "execution_count": 24,
     "metadata": {},
     "output_type": "execute_result"
    }
   ],
   "source": [
    "query = \"\"\"\n",
    "SELECT i.BillingCountry, items.TrackId\n",
    "FROM invoices as i\n",
    "JOIN invoice_items as items\n",
    "ON i.InvoiceId = items.InvoiceId\n",
    "LIMIT 10;\n",
    "\"\"\"\n",
    "cursor.execute(query)\n",
    "cursor.fetchall()"
   ]
  },
  {
   "cell_type": "code",
   "execution_count": 93,
   "metadata": {},
   "outputs": [
    {
     "data": {
      "text/plain": [
       "[(0, 'ArtistId', 'INTEGER', 1, None, 1),\n",
       " (1, 'Name', 'NVARCHAR(120)', 0, None, 0)]"
      ]
     },
     "execution_count": 93,
     "metadata": {},
     "output_type": "execute_result"
    }
   ],
   "source": [
    "cursor.execute(\"PRAGMA table_info(artists);\")\n",
    "cursor.fetchall()"
   ]
  },
  {
   "cell_type": "code",
   "execution_count": 88,
   "metadata": {},
   "outputs": [
    {
     "data": {
      "text/plain": [
       "[(99, 494, 'USA'),\n",
       " (42, 304, 'Canada'),\n",
       " (234, 190, 'France'),\n",
       " (738, 190, 'Brazil'),\n",
       " (2, 152, 'Germany'),\n",
       " (274, 114, 'United Kingdom'),\n",
       " (927, 76, 'Portugal'),\n",
       " (1434, 76, 'Czech Republic'),\n",
       " (702, 74, 'India'),\n",
       " (1391, 38, 'Sweden')]"
      ]
     },
     "execution_count": 88,
     "metadata": {},
     "output_type": "execute_result"
    }
   ],
   "source": [
    "query = \"\"\"\n",
    "SELECT \n",
    "    items.TrackId,\n",
    "    Count(items.TrackId),\n",
    "    i.BillingCountry\n",
    "FROM invoices as i\n",
    "JOIN invoice_items as items ON i.InvoiceId = items.InvoiceId\n",
    "GROUP BY 3\n",
    "ORDER BY 2 DESC\n",
    "LIMIT 10;\n",
    "\"\"\"\n",
    "cursor.execute(query)\n",
    "cursor.fetchall()"
   ]
  },
  {
   "cell_type": "code",
   "execution_count": 95,
   "metadata": {},
   "outputs": [
    {
     "data": {
      "text/plain": [
       "[(99, 'Your Time Has Come', 'Out Of Exile', 'Audioslave', 494, 'USA'),\n",
       " (42,\n",
       "  'Right Through You',\n",
       "  'Jagged Little Pill',\n",
       "  'Alanis Morissette',\n",
       "  304,\n",
       "  'Canada'),\n",
       " (234, 'Morena De Angola', 'Minha Historia', 'Chico Buarque', 190, 'France'),\n",
       " (738,\n",
       "  'Admirável Gado Novo',\n",
       "  'Cássia Eller - Sem Limite [Disc 1]',\n",
       "  'Cássia Eller',\n",
       "  190,\n",
       "  'Brazil'),\n",
       " (2, 'Balls to the Wall', 'Balls to the Wall', 'Accept', 152, 'Germany')]"
      ]
     },
     "execution_count": 95,
     "metadata": {},
     "output_type": "execute_result"
    }
   ],
   "source": [
    "query = \"\"\"\n",
    "SELECT \n",
    "    items.TrackId,\n",
    "    t.Name,\n",
    "    a.Title,\n",
    "    aa.Name,\n",
    "    Count(items.TrackId),\n",
    "    i.BillingCountry\n",
    "FROM invoices as i\n",
    "JOIN invoice_items as items ON i.InvoiceId = items.InvoiceId\n",
    "JOIN tracks as t ON items.TrackId = t.TrackId\n",
    "JOIN albums as a ON t.AlbumId = a.AlbumId\n",
    "JOIN artists as aa ON a.ArtistId = aa.ArtistId\n",
    "GROUP BY 6\n",
    "ORDER BY 5 DESC\n",
    "LIMIT 5;\n",
    "\"\"\"\n",
    "cursor.execute(query)\n",
    "cursor.fetchall()"
   ]
  },
  {
   "cell_type": "code",
   "execution_count": 96,
   "metadata": {},
   "outputs": [],
   "source": [
    "connection.close()"
   ]
  },
  {
   "cell_type": "code",
   "execution_count": 97,
   "metadata": {},
   "outputs": [],
   "source": [
    "book_data = [\n",
    "('12-1-2020', 'Practical Data Science With Python', 19.99, 1), ('12-15-2020', 'Python Machine Learning', 27.99, 1),\n",
    "('12-17-2020', 'Machine Learning For Algorithmic Trading', 34.99, 1)\n",
    "]"
   ]
  },
  {
   "cell_type": "code",
   "execution_count": 98,
   "metadata": {},
   "outputs": [],
   "source": [
    "connection = sqlite3.connect('book_sales.db')\n",
    "cursor = connection.cursor()"
   ]
  },
  {
   "cell_type": "code",
   "execution_count": 99,
   "metadata": {},
   "outputs": [],
   "source": [
    "query = \"\"\"\n",
    "CREATE TABLE IF NOT EXISTS book_sales\n",
    "(date text, book_title, text, price real, quantity real)\n",
    "\"\"\"\n",
    "cursor.execute(query)\n",
    "connection.commit()"
   ]
  },
  {
   "cell_type": "code",
   "execution_count": 100,
   "metadata": {},
   "outputs": [],
   "source": [
    "cursor.execute(\"INSERT INTO book_sales VALUES (?,?,?,?)\", book_data[0])\n",
    "connection.commit()"
   ]
  },
  {
   "cell_type": "code",
   "execution_count": 102,
   "metadata": {},
   "outputs": [
    {
     "data": {
      "text/plain": [
       "[('12-1-2020', 'Practical Data Science With Python', 19.99, 1.0),\n",
       " ('12-15-2020', 'Python Machine Learning', 27.99, 1.0),\n",
       " ('12-17-2020', 'Machine Learning For Algorithmic Trading', 34.99, 1.0),\n",
       " (None, 'machine learining', 10.99, None),\n",
       " ('12-1-2020', 'Practical Data Science With Python', 19.99, 1.0)]"
      ]
     },
     "execution_count": 102,
     "metadata": {},
     "output_type": "execute_result"
    }
   ],
   "source": [
    "cursor.execute(\"SELECT * FROM book_sales\")\n",
    "cursor.fetchall()"
   ]
  },
  {
   "cell_type": "code",
   "execution_count": 103,
   "metadata": {},
   "outputs": [],
   "source": [
    "connection.close()"
   ]
  },
  {
   "cell_type": "code",
   "execution_count": 3,
   "metadata": {},
   "outputs": [],
   "source": [
    "from sqlalchemy import create_engine\n",
    "engine = create_engine('sqlite:///book_sales.db')\n",
    "connection = engine.connect()"
   ]
  },
  {
   "cell_type": "code",
   "execution_count": 4,
   "metadata": {},
   "outputs": [],
   "source": [
    "result = connection.execute(\"SELECT * FROM book_sales\")"
   ]
  },
  {
   "cell_type": "code",
   "execution_count": 5,
   "metadata": {},
   "outputs": [
    {
     "data": {
      "text/plain": [
       "[('12-1-2020', 'Practical Data Science With Python', 19.99, 1.0),\n",
       " ('12-15-2020', 'Python Machine Learning', 27.99, 1.0),\n",
       " ('12-17-2020', 'Machine Learning For Algorithmic Trading', 34.99, 1.0),\n",
       " (None, 'machine learining', 10.99, None),\n",
       " ('12-1-2020', 'Practical Data Science With Python', 19.99, 1.0)]"
      ]
     },
     "execution_count": 5,
     "metadata": {},
     "output_type": "execute_result"
    }
   ],
   "source": [
    "list(result)"
   ]
  },
  {
   "cell_type": "code",
   "execution_count": null,
   "metadata": {},
   "outputs": [],
   "source": []
  }
 ],
 "metadata": {
  "interpreter": {
   "hash": "9b4fa76825520d3e7815c5efade67b2a86aa3b84cbfdf3083fe4d9833a6cab7c"
  },
  "kernelspec": {
   "display_name": "Python 3.10.0 64-bit ('dp': conda)",
   "language": "python",
   "name": "python3"
  },
  "language_info": {
   "codemirror_mode": {
    "name": "ipython",
    "version": 3
   },
   "file_extension": ".py",
   "mimetype": "text/x-python",
   "name": "python",
   "nbconvert_exporter": "python",
   "pygments_lexer": "ipython3",
   "version": "3.9.7"
  },
  "orig_nbformat": 4
 },
 "nbformat": 4,
 "nbformat_minor": 2
}
